{
 "cells": [
  {
   "cell_type": "code",
   "execution_count": 10,
   "metadata": {},
   "outputs": [],
   "source": [
    "import csv\n",
    "import sqlite3"
   ]
  },
  {
   "cell_type": "code",
   "execution_count": 29,
   "metadata": {},
   "outputs": [],
   "source": [
    "with open('Emission_total_ by_country_with_id.csv', 'r') as csvfile:\n",
    "    csvreader = csv.reader(csvfile)\n",
    "    conn = sqlite3.connect('database.db')\n",
    "    c = conn.cursor()\n",
    "\n",
    "    c.execute('''CREATE TABLE total_emission (id numeric primary key, Country text, latitude real, longitude real, \"2000\" real, \"2001\" real, \"2002\" real, \"2003\" real, \"2004\" real, \"2005\" real, \"2006\" real, \"2007\" real, \"2008\" real, \"2009\" real, \"2010\" real, \"2011\" real, \"2012\" real, \"2013\" real, \"2014\" real, \"2015\" real, \"2016\" real, \"2017\" real, \"2018\" real, \"2019\" real, \"2020\" real)''')\n",
    "    for row in csvreader:\n",
    "        c.execute(\"INSERT INTO total_emission VALUES (?, ?, ?, ?, ?, ?, ?, ?, ?, ?, ?, ?, ?, ?, ?, ?, ?, ?, ?, ?, ?, ?, ?, ?, ?)\", row)\n",
    "    conn.commit()\n",
    "    csvfile.close()\n",
    "    conn.close()"
   ]
  }
 ],
 "metadata": {
  "anaconda-cloud": {},
  "kernelspec": {
   "display_name": "Python 3 (ipykernel)",
   "language": "python",
   "name": "python3"
  },
  "language_info": {
   "codemirror_mode": {
    "name": "ipython",
    "version": 3
   },
   "file_extension": ".py",
   "mimetype": "text/x-python",
   "name": "python",
   "nbconvert_exporter": "python",
   "pygments_lexer": "ipython3",
   "version": "3.9.13"
  },
  "varInspector": {
   "cols": {
    "lenName": 16,
    "lenType": 16,
    "lenVar": 40
   },
   "kernels_config": {
    "python": {
     "delete_cmd_postfix": "",
     "delete_cmd_prefix": "del ",
     "library": "var_list.py",
     "varRefreshCmd": "print(var_dic_list())"
    },
    "r": {
     "delete_cmd_postfix": ") ",
     "delete_cmd_prefix": "rm(",
     "library": "var_list.r",
     "varRefreshCmd": "cat(var_dic_list()) "
    }
   },
   "types_to_exclude": [
    "module",
    "function",
    "builtin_function_or_method",
    "instance",
    "_Feature"
   ],
   "window_display": false
  }
 },
 "nbformat": 4,
 "nbformat_minor": 1
}
